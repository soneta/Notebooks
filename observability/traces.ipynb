{
 "cells": [
  {
   "cell_type": "markdown",
   "metadata": {},
   "source": [
    "Załadowanie bibliotek i utworzenie obiektu Login"
   ]
  },
  {
   "cell_type": "code",
   "execution_count": null,
   "metadata": {
    "dotnet_interactive": {
     "language": "csharp"
    },
    "polyglot_notebook": {
     "kernelName": "csharp"
    },
    "vscode": {
     "languageId": "polyglot-notebook"
    }
   },
   "outputs": [],
   "source": [
    "#!import ./../load.ipynb"
   ]
  },
  {
   "cell_type": "markdown",
   "metadata": {},
   "source": [
    "Utworzenie statycznego ActivitySource dla rozszerzenia. Należy pamiętać o włączeniu go w appsettings.json (Telemetry:TracesSources).\n",
    "\n",
    "\n"
   ]
  },
  {
   "cell_type": "code",
   "execution_count": null,
   "metadata": {
    "dotnet_interactive": {
     "language": "csharp"
    },
    "polyglot_notebook": {
     "kernelName": "csharp"
    },
    "vscode": {
     "languageId": "polyglot-notebook"
    }
   },
   "outputs": [],
   "source": [
    "using System.Diagnostics;\n",
    "\n",
    "static ActivitySource source = new ActivitySource(\"BestSonetaAddon\");"
   ]
  },
  {
   "cell_type": "markdown",
   "metadata": {},
   "source": [
    "Utworzenie Activity dla procesu przetwarzania towarów. \n",
    "\n",
    "Do spana dodane zostały tagi z nazwą użytkownika i liczbą towarów z EAN.\n",
    "\n",
    "Zarejestowano także event informujący o wystąpieniu nieprawidłowego towaru (bez EAN).\n",
    "\n",
    "Należy pamiętać, że w przypadku braku nasłuchu na podstawione ActivitySource metoda StartActivity zwróci null.\n"
   ]
  },
  {
   "cell_type": "code",
   "execution_count": null,
   "metadata": {
    "dotnet_interactive": {
     "language": "csharp"
    },
    "polyglot_notebook": {
     "kernelName": "csharp"
    },
    "vscode": {
     "languageId": "polyglot-notebook"
    }
   },
   "outputs": [],
   "source": [
    "using Soneta.Towary;\n",
    "\n",
    "using(var activity = source.StartActivity(\"Load products\"))\n",
    "{\n",
    "  using(var session = Login.CreateSession(\"Pobieranie listy towarów\"))\n",
    "  {\n",
    "    activity?.AddTag(\"UserName\", Login.UserName);\n",
    "    int validCount = 0;\n",
    "    foreach(var towar in session.GetTowary().Towary.WgNazwy){\n",
    "      if (string.IsNullOrWhiteSpace(towar.EAN))\n",
    "        activity?.AddEvent(new ActivityEvent($\"Product {towar.Nazwa} without EAN\"));\n",
    "      else\n",
    "        validCount++;\n",
    "      WriteLine(towar.Nazwa);\n",
    "    }\n",
    "    activity?.AddTag(\"ValidCount\", validCount);\n",
    "  }\n",
    "}"
   ]
  },
  {
   "cell_type": "markdown",
   "metadata": {},
   "source": [
    "Kod przetwarzający towary analogiczny jak powyższy, ale zamiast tworzenia nowego Activity, dodajemy Event do nadrzędnego Activity (jeśli jest utworzony)."
   ]
  },
  {
   "cell_type": "code",
   "execution_count": null,
   "metadata": {
    "vscode": {
     "languageId": "polyglot-notebook"
    }
   },
   "outputs": [],
   "source": [
    "using Soneta.Towary;\n",
    "\n",
    "using(var session = Login.CreateSession(\"Pobieranie listy towarów\"))\n",
    "{\n",
    "    int validCount = 0;\n",
    "    foreach(var towar in session.GetTowary().Towary.WgNazwy){\n",
    "        if (string.IsNullOrWhiteSpace(towar.EAN))\n",
    "            Activity.Current?.AddEvent(new ActivityEvent($\"Product {towar.Nazwa} without EAN\"));\n",
    "        else\n",
    "            validCount++;\n",
    "        WriteLine(towar.Nazwa);\n",
    "    }\n",
    "}"
   ]
  },
  {
   "cell_type": "markdown",
   "metadata": {},
   "source": [
    "Wyczyszczenie obiektu Login"
   ]
  },
  {
   "cell_type": "code",
   "execution_count": null,
   "metadata": {
    "dotnet_interactive": {
     "language": "csharp"
    },
    "polyglot_notebook": {
     "kernelName": "csharp"
    },
    "vscode": {
     "languageId": "polyglot-notebook"
    }
   },
   "outputs": [],
   "source": [
    "Login?.Dispose();"
   ]
  }
 ],
 "metadata": {
  "kernelspec": {
   "display_name": ".NET (C#)",
   "language": "C#",
   "name": ".net-csharp"
  },
  "language_info": {
   "name": "csharp"
  },
  "polyglot_notebook": {
   "kernelInfo": {
    "defaultKernelName": "csharp",
    "items": [
     {
      "aliases": [],
      "name": "csharp"
     }
    ]
   }
  }
 },
 "nbformat": 4,
 "nbformat_minor": 2
}
