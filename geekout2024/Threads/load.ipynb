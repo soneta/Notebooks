{
 "cells": [
  {
   "cell_type": "code",
   "execution_count": 12,
   "metadata": {
    "dotnet_interactive": {
     "language": "csharp"
    },
    "polyglot_notebook": {
     "kernelName": "csharp"
    },
    "vscode": {
     "languageId": "polyglot-notebook"
    }
   },
   "outputs": [],
   "source": [
    "//#r \"nuget: Soneta.Start, 2401.4.8-net\"\n",
    "//#r \"nuget: Soneta.Products.Modules, 2401.4.8-net\"\n",
    "#r \"c:\\d\\dev2\\bin\\debug\\soneta.start.dll\"\n",
    "#r \"c:\\d\\dev2\\bin\\debug\\soneta.types.dll\"\n",
    "#r \"c:\\d\\dev2\\bin\\debug\\soneta.business.dll\"\n",
    "#r \"c:\\d\\dev2\\bin\\debug\\soneta.core.dll\"\n",
    "#r \"c:\\d\\dev2\\bin\\debug\\soneta.handel.dll\""
   ]
  },
  {
   "cell_type": "code",
   "execution_count": 13,
   "metadata": {
    "dotnet_interactive": {
     "language": "csharp"
    },
    "polyglot_notebook": {
     "kernelName": "csharp"
    },
    "vscode": {
     "languageId": "polyglot-notebook"
    }
   },
   "outputs": [],
   "source": [
    "using Soneta.Start;\n",
    "using Soneta.Tools;\n",
    "using Soneta.Types;\n",
    "using Soneta.Business;\n",
    "using Soneta.Business.App;\n",
    "using System.Collections.Concurrent;\n",
    "using System.Threading;\n",
    "using static System.Console;"
   ]
  },
  {
   "cell_type": "code",
   "execution_count": 14,
   "metadata": {
    "dotnet_interactive": {
     "language": "csharp"
    },
    "polyglot_notebook": {
     "kernelName": "csharp"
    },
    "vscode": {
     "languageId": "polyglot-notebook"
    }
   },
   "outputs": [],
   "source": [
    "var Loader = new Loader();\n",
    "Loader.Load();"
   ]
  },
  {
   "cell_type": "code",
   "execution_count": 15,
   "metadata": {
    "dotnet_interactive": {
     "language": "csharp"
    },
    "polyglot_notebook": {
     "kernelName": "csharp"
    },
    "vscode": {
     "languageId": "polyglot-notebook"
    }
   },
   "outputs": [],
   "source": [
    "var Database = BusApplication.Instance[\"Test10\"];\n",
    "var Login = Database.Login(false, \"Administrator\", \"\");"
   ]
  }
 ],
 "metadata": {
  "language_info": {
   "name": "csharp"
  }
 },
 "nbformat": 4,
 "nbformat_minor": 2
}
