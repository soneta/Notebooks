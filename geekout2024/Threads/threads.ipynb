{
 "cells": [
  {
   "cell_type": "code",
   "execution_count": 133,
   "metadata": {
    "dotnet_interactive": {
     "language": "csharp"
    },
    "polyglot_notebook": {
     "kernelName": "csharp"
    },
    "vscode": {
     "languageId": "polyglot-notebook"
    }
   },
   "outputs": [],
   "source": [
    "#!import ./load.ipynb"
   ]
  },
  {
   "cell_type": "code",
   "execution_count": 134,
   "metadata": {
    "dotnet_interactive": {
     "language": "csharp"
    },
    "polyglot_notebook": {
     "kernelName": "csharp"
    },
    "vscode": {
     "languageId": "polyglot-notebook"
    }
   },
   "outputs": [
    {
     "name": "stdout",
     "output_type": "stream",
     "text": [
      "Main thread fr-FR\n",
      "Task thread fr-FR\n"
     ]
    }
   ],
   "source": [
    "using System.Globalization;\n",
    "\n",
    "var sstate = SessionState.GetThreadState();\n",
    "\n",
    "SessionState.Current.CurrentCulture = CultureInfo.GetCultureInfo(\"fr-fr\");\n",
    "WriteLine($\"Main thread {SessionState.Current.CurrentCulture}\");\n",
    "\n",
    "await Task.Run(() => {\n",
    "    using (LogTimer.StartThreadInfo(\"Test Thread\"))\n",
    "    using (sstate?.AttachThread()) {\n",
    "        WriteLine($\"Task thread {SessionState.Current.CurrentCulture}\");\n",
    "    }\n",
    "});"
   ]
  },
  {
   "cell_type": "code",
   "execution_count": 135,
   "metadata": {
    "dotnet_interactive": {
     "language": "csharp"
    },
    "polyglot_notebook": {
     "kernelName": "csharp"
    },
    "vscode": {
     "languageId": "polyglot-notebook"
    }
   },
   "outputs": [
    {
     "name": "stdout",
     "output_type": "stream",
     "text": [
      "Main thread fr-FR\n",
      "Task thread fr-FR\n"
     ]
    }
   ],
   "source": [
    "SessionState.Current.CurrentCulture = CultureInfo.GetCultureInfo(\"fr-fr\");\n",
    "WriteLine($\"Main thread {SessionState.Current.CurrentCulture}\");\n",
    "\n",
    "await Concurrent.RunTask(() => {\n",
    "    WriteLine($\"Task thread {SessionState.Current.CurrentCulture}\");\n",
    "});"
   ]
  },
  {
   "cell_type": "code",
   "execution_count": 136,
   "metadata": {
    "dotnet_interactive": {
     "language": "csharp"
    },
    "polyglot_notebook": {
     "kernelName": "csharp"
    },
    "vscode": {
     "languageId": "polyglot-notebook"
    }
   },
   "outputs": [
    {
     "name": "stdout",
     "output_type": "stream",
     "text": [
      "20, 21, 22, 0, 1, 2, 10, 11, 12\r\n"
     ]
    }
   ],
   "source": [
    "var collection = new BlockingCollection<int>();\n",
    "\n",
    "var tasks = new Task[3];\n",
    "\n",
    "tasks[0] = Concurrent.RunTask(() => {\n",
    "    for (int i = 0; i<3; ++i)\n",
    "        collection.Add(i);\n",
    "});\n",
    "tasks[1] = Concurrent.RunTask(() => {\n",
    "    for (int i = 0; i<3; ++i)\n",
    "        collection.Add(10+i);\n",
    "});\n",
    "tasks[2] = Concurrent.RunTask(() => {\n",
    "    for (int i = 0; i<3; ++i)\n",
    "        collection.Add(20+i);\n",
    "});\n",
    "Concurrent.RunTask(() => {\n",
    "    Task.WaitAll(tasks);\n",
    "    collection.CompleteAdding();\n",
    "}).Wait();\n",
    "\n",
    "var arr = new List<int>();\n",
    "\n",
    "foreach (int i in collection.GetConsumingEnumerable())\n",
    "    arr.Add(i);\n",
    "\n",
    "WriteLine(arr.Select(i => i.ToString()).Join(\", \"));"
   ]
  },
  {
   "cell_type": "code",
   "execution_count": 137,
   "metadata": {
    "dotnet_interactive": {
     "language": "csharp"
    },
    "polyglot_notebook": {
     "kernelName": "csharp"
    },
    "vscode": {
     "languageId": "polyglot-notebook"
    }
   },
   "outputs": [
    {
     "name": "stdout",
     "output_type": "stream",
     "text": [
      "Towar reset: BIKINI\n",
      "Towar reset: BUT_NAR\n",
      "Towar reset: BUT_NAR_42\n",
      "Towar: BIKINI, numer katalogowy: ''\n",
      "Towar: BUT_NAR, numer katalogowy: ''\n",
      "Towar: BUT_NAR_42, numer katalogowy: ''\n"
     ]
    }
   ],
   "source": [
    "using Soneta.Towary;\n",
    "\n",
    "var collection = new BlockingCollection<Session>();\n",
    "\n",
    "var kody = new List<string>();\n",
    "\n",
    "using (Session session = Login.CreateSession(false, false, \"Producer Session\")) {\n",
    "    using (var transaction = session.Logout(true)) {\n",
    "        foreach (var towar in session.GetTowary().Towary.WgKodu.GetNextRows(null, 3, out _).Cast<Towar>()) {\n",
    "            kody.Add(towar.Kod);\n",
    "            WriteLine($\"Towar reset: {towar.Kod}\");\n",
    "            towar.NumerKatalogowy = \"\";\n",
    "        }\n",
    "        transaction.Commit();\n",
    "    }\n",
    "    session.Save();\n",
    "}\n",
    "\n",
    "WriteTowary();\n",
    "\n",
    "void WriteTowary() {\n",
    "    using Session session = Login.CreateSession(false, false, \"Write Log\");\n",
    "    foreach (var towar in session.GetTowary().Towary.WgKodu.GetNextRows(null, 3, out _).Cast<Towar>()) {\n",
    "        WriteLine($\"Towar: {towar.Kod}, numer katalogowy: '{towar.NumerKatalogowy}'\");\n",
    "    }\n",
    "}"
   ]
  },
  {
   "cell_type": "code",
   "execution_count": 138,
   "metadata": {
    "dotnet_interactive": {
     "language": "csharp"
    },
    "polyglot_notebook": {
     "kernelName": "csharp"
    },
    "vscode": {
     "languageId": "polyglot-notebook"
    }
   },
   "outputs": [
    {
     "name": "stdout",
     "output_type": "stream",
     "text": [
      "Task Towar: BUT_NAR - ''\n",
      "Task Towar: BIKINI - ''\n",
      "Task Towar: BUT_NAR_42 - ''\n",
      "Towar: BIKINI, numer katalogowy: 'Numer: bikini'\n",
      "Towar: BUT_NAR, numer katalogowy: 'Numer: but_nar'\n",
      "Towar: BUT_NAR_42, numer katalogowy: 'Numer: but_nar_42'\n"
     ]
    }
   ],
   "source": [
    "void BuildSession(string kod) {\n",
    "    using Session session = Login.CreateSession(false, false, \"Producer Session\");\n",
    "    \n",
    "    using (var transaction = session.Logout(true)) {\n",
    "        var towar = session.GetTowary().Towary.WgKodu[kod];\n",
    "        \n",
    "        WriteLine($\"Task Towar: {towar.Kod} - '{towar.NumerKatalogowy}'\");\n",
    "        towar.NumerKatalogowy = \"Numer: \"+kod.ToLower();\n",
    "        \n",
    "        transaction.Commit();\n",
    "    }\n",
    "    \n",
    "    session.Save();\n",
    "}\n",
    "\n",
    "var tasks = new[] {\n",
    "    Concurrent.RunTask(() => BuildSession(kody[0])),\n",
    "    Concurrent.RunTask(() => BuildSession(kody[1])),\n",
    "    Concurrent.RunTask(() => BuildSession(kody[2]))\n",
    "};\n",
    "await Task.WhenAll(tasks);\n",
    "\n",
    "WriteTowary();"
   ]
  },
  {
   "cell_type": "code",
   "execution_count": 139,
   "metadata": {
    "dotnet_interactive": {
     "language": "csharp"
    },
    "polyglot_notebook": {
     "kernelName": "csharp"
    },
    "vscode": {
     "languageId": "polyglot-notebook"
    }
   },
   "outputs": [
    {
     "name": "stdout",
     "output_type": "stream",
     "text": [
      "Task Towar: BUT_NAR - 'Numer: but_nar'\n",
      "Task Towar: BIKINI - 'Numer: bikini'\n",
      "Task Towar: BUT_NAR_42 - 'Numer: but_nar_42'\n",
      "Before save\n",
      "Towar: BIKINI, numer katalogowy: 'Numer: bikini'\n",
      "Towar: BUT_NAR, numer katalogowy: 'Numer: but_nar'\n",
      "Towar: BUT_NAR_42, numer katalogowy: 'Numer: but_nar_42'\n",
      "After save\n",
      "Towar: BIKINI, numer katalogowy: 'Numer: bikini'\n",
      "Towar: BUT_NAR, numer katalogowy: 'Numer: but_nar'\n",
      "Towar: BUT_NAR_42, numer katalogowy: 'Numer: but_nar_42'\n"
     ]
    }
   ],
   "source": [
    "Session BuildSessionResult(string kod) {\n",
    "    using Session session = Login.CreateSession(false, false, \"Producer Session\");\n",
    "    \n",
    "    using (var transaction = session.Logout(true)) {\n",
    "        var towar = session.GetTowary().Towary.WgKodu[kod];\n",
    "        \n",
    "        WriteLine($\"Task Towar: {towar.Kod} - '{towar.NumerKatalogowy}'\");\n",
    "        towar.NumerKatalogowy = \"Numer: \"+kod.ToLower();\n",
    "        \n",
    "        transaction.Commit();\n",
    "    }\n",
    "    \n",
    "    return session;\n",
    "}\n",
    "\n",
    "var sessions = await Task.WhenAll([\n",
    "    Concurrent.RunTask<Session>(() => BuildSessionResult(kody[0])),\n",
    "    Concurrent.RunTask<Session>(() => BuildSessionResult(kody[1])),\n",
    "    Concurrent.RunTask<Session>(() => BuildSessionResult(kody[2]))\n",
    "]);\n",
    "\n",
    "WriteLine(\"Before save\");\n",
    "WriteTowary();\n",
    "\n",
    "using (var dbTransaction = Database.Logout()) {\n",
    "    foreach (Session session in sessions)\n",
    "        session.Save();\n",
    "\n",
    "    dbTransaction.Commit();\n",
    "}\n",
    "\n",
    "WriteLine(\"After save\");\n",
    "WriteTowary();"
   ]
  }
 ],
 "metadata": {
  "language_info": {
   "name": "csharp"
  }
 },
 "nbformat": 4,
 "nbformat_minor": 2
}
