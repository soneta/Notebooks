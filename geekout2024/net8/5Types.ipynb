{
 "cells": [
  {
   "cell_type": "markdown",
   "metadata": {},
   "source": [
    "Wreszcie mamy ``Dictionary.TryAdd()``"
   ]
  },
  {
   "cell_type": "code",
   "execution_count": 1,
   "metadata": {
    "dotnet_interactive": {
     "language": "csharp"
    },
    "polyglot_notebook": {
     "kernelName": "csharp"
    }
   },
   "outputs": [],
   "source": [
    "var dict = new Dictionary<string, string>() { {\"geek\", \"in\"} };\n",
    "//if (!dict.ContainsKey(\"geek\"))\n",
    "//  dict.Add(\"geek\", \"out\");\n",
    "dict.TryAdd(\"geek\", \"out\");"
   ]
  },
  {
   "cell_type": "markdown",
   "metadata": {},
   "source": [
    "Mamy kolekcje zoptymalizowane pod scenariusze read-only. Ich tworzenie jest droższe niż np. standardowego słownika, ale za ``get`` jest tańszy."
   ]
  },
  {
   "cell_type": "code",
   "execution_count": 1,
   "metadata": {
    "dotnet_interactive": {
     "language": "csharp"
    },
    "polyglot_notebook": {
     "kernelName": "csharp"
    }
   },
   "outputs": [],
   "source": [
    "using  System.Collections.Frozen;\n",
    "\n",
    "static FrozenDictionary<string, string> Lookup = FrozenDictionary.ToFrozenDictionary(new Dictionary<string, string>() { /* ... */ });"
   ]
  },
  {
   "cell_type": "markdown",
   "metadata": {},
   "source": [
    "Mamy też typy ``nint`` i ``nuint`` reprezentujące natywny pointer (word) na danej platformie, a także liczby 128-bitowe."
   ]
  },
  {
   "cell_type": "code",
   "execution_count": null,
   "metadata": {
    "dotnet_interactive": {
     "language": "csharp"
    },
    "polyglot_notebook": {
     "kernelName": "csharp"
    }
   },
   "outputs": [],
   "source": [
    "static int SizeOf(Type t) => System.Runtime.InteropServices.Marshal.SizeOf(t);\n",
    "\n",
    "Console.WriteLine($\"sizeof(int): {SizeOf(typeof(int))}\"); // => 4\n",
    "Console.WriteLine($\"sizeof(int): {SizeOf(typeof(uint))}\"); // => 4\n",
    "\n",
    "Console.WriteLine($\"sizeof(long): {SizeOf(typeof(long))}\"); // => 8\n",
    "Console.WriteLine($\"sizeof(long): {SizeOf(typeof(ulong))}\"); // => 8\n",
    "\n",
    "Console.WriteLine($\"sizeof(nint): {SizeOf(typeof(nint))}\"); // => IntPtr, 8\n",
    "Console.WriteLine($\"sizeof(nuint): {SizeOf(typeof(nuint))}\"); // => UIntPtr, 8\n",
    "\n",
    "Console.WriteLine($\"sizeof(Int128): {SizeOf(typeof(Int128))}\"); // 2 x ulong\n",
    "Console.WriteLine($\"sizeof(Int128): {SizeOf(typeof(UInt128))}\"); // 2 x ulong"
   ]
  }
 ],
 "metadata": {
  "kernelspec": {
   "display_name": ".NET (C#)",
   "language": "C#",
   "name": ".net-csharp"
  },
  "language_info": {
   "name": "polyglot-notebook"
  },
  "polyglot_notebook": {
   "kernelInfo": {
    "defaultKernelName": "csharp",
    "items": [
     {
      "aliases": [],
      "name": "csharp"
     }
    ]
   }
  }
 },
 "nbformat": 4,
 "nbformat_minor": 2
}
