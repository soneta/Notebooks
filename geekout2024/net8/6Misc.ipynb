{
 "cells": [
  {
   "cell_type": "markdown",
   "metadata": {},
   "source": [
    "Alias dowolnych typów przy użyciu ``using``"
   ]
  },
  {
   "cell_type": "code",
   "execution_count": 1,
   "metadata": {
    "dotnet_interactive": {
     "language": "csharp"
    },
    "polyglot_notebook": {
     "kernelName": "csharp"
    }
   },
   "outputs": [],
   "source": [
    "using typealias = string;"
   ]
  },
  {
   "cell_type": "markdown",
   "metadata": {},
   "source": [
    "In-place string literals"
   ]
  },
  {
   "cell_type": "code",
   "execution_count": 8,
   "metadata": {
    "dotnet_interactive": {
     "language": "csharp"
    },
    "polyglot_notebook": {
     "kernelName": "csharp"
    }
   },
   "outputs": [
    {
     "name": "stdout",
     "output_type": "stream",
     "text": [
      "    My Dear Diary,\r\n",
      "\r\n",
      "    it's been a long time since i wrote blah blah\r\n"
     ]
    }
   ],
   "source": [
    "\n",
    "const typealias Literal = \n",
    "    \"\"\"\n",
    "        My Dear Diary,\n",
    "\n",
    "        it's been a long time since i wrote blah blah\n",
    "    \"\"\";\n",
    "\n",
    "Console.WriteLine(Literal);\n"
   ]
  },
  {
   "cell_type": "markdown",
   "metadata": {},
   "source": [
    "Wydajne wsparcie utf8"
   ]
  },
  {
   "cell_type": "code",
   "execution_count": 3,
   "metadata": {
    "dotnet_interactive": {
     "language": "csharp"
    },
    "polyglot_notebook": {
     "kernelName": "csharp"
    }
   },
   "outputs": [],
   "source": [
    "\n",
    "static void DealWithUTF8()\n",
    "{\n",
    "    var utf8 = \"aeząęź\"u8; /* ReadOnlySpan<byte> nie może być polem w klasie, nie może być const'em, default parametrem */\n",
    "    var asstring = utf8.ToString(); // System.ReadOnlySpan<Byte>[#]\n",
    "    var asbytes = utf8.ToArray();\n",
    "    Console.WriteLine(System.Text.Encoding.UTF8.GetString(asbytes));\n",
    "}\n",
    "\n",
    "public static void Show()\n",
    "{\n",
    "    Console.WriteLine(Literal);\n",
    "    DealWithUTF8();\n",
    "}\n",
    "\n"
   ]
  },
  {
   "cell_type": "markdown",
   "metadata": {},
   "source": [
    "``file-scoped types`` - klasę można poprzedzić ``file``, wtedy widoczna jest wyłącznie w obrębie bieżącego pliku (do sprawdzenia poza notebook)."
   ]
  },
  {
   "cell_type": "code",
   "execution_count": 4,
   "metadata": {
    "dotnet_interactive": {
     "language": "csharp"
    },
    "polyglot_notebook": {
     "kernelName": "csharp"
    }
   },
   "outputs": [
    {
     "ename": "Error",
     "evalue": "(1,12): error CS9054: File-local type 'AboutMiscellaneous' must be defined in a top level type; 'AboutMiscellaneous' is a nested type.",
     "output_type": "error",
     "traceback": [
      "(1,12): error CS9054: File-local type 'AboutMiscellaneous' must be defined in a top level type; 'AboutMiscellaneous' is a nested type."
     ]
    }
   ],
   "source": [
    "file class AboutMiscellaneous\n",
    "{\n",
    "}"
   ]
  }
 ],
 "metadata": {
  "kernelspec": {
   "display_name": ".NET (C#)",
   "language": "C#",
   "name": ".net-csharp"
  },
  "language_info": {
   "name": "polyglot-notebook"
  },
  "polyglot_notebook": {
   "kernelInfo": {
    "defaultKernelName": "csharp",
    "items": [
     {
      "aliases": [],
      "name": "csharp"
     }
    ]
   }
  }
 },
 "nbformat": 4,
 "nbformat_minor": 2
}
