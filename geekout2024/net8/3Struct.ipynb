{
 "cells": [
  {
   "cell_type": "markdown",
   "metadata": {},
   "source": [
    "W C# 10.0 pola w strukturach mogą mieć initializery.\\\n",
    "W C# 11.0 pojawiają się pola ``required`` oraz automatyczna inicjalizacja pól wartością ``default``.\\\n",
    "Dawniej wszystkie pola struktury musiały być uzupełnione przed wyjściem z konstruktora.\\\n",
    "Teraz pola nieustawione _explicite_ w konstruktorze dostają wartość ``default``"
   ]
  },
  {
   "cell_type": "code",
   "execution_count": 12,
   "metadata": {
    "dotnet_interactive": {
     "language": "csharp"
    },
    "polyglot_notebook": {
     "kernelName": "csharp"
    }
   },
   "outputs": [],
   "source": [
    "struct Struct\n",
    "{        \n",
    "    public Struct() { /*...*/ }\n",
    "    public int[] Ids = { 5, 10, 15 };     \n",
    "    public /*required*/ string[] Texts;\n",
    "}"
   ]
  },
  {
   "cell_type": "markdown",
   "metadata": {},
   "source": [
    "Pole typu array zajmuje w obiekcie nadrzędnym tyle miejsca co referencja (adres). \\\n",
    "Poruszanie się po drzewie takich danych wymaga częstych skoków w pamięci. \\\n",
    "W wymagających zastosowaniach możemy chcieć wstawić wartości bezpośrednio do struktury:\n",
    "- -> mniej skoków po pamięci \n",
    "- -> mniej _CPU cache fills_\n",
    "\n",
    "Upakowanie struktury da się osiągnąć za pomocą ``fixed``, ale to wymaga ``unsafe``:"
   ]
  },
  {
   "cell_type": "code",
   "execution_count": 13,
   "metadata": {
    "dotnet_interactive": {
     "language": "csharp"
    },
    "polyglot_notebook": {
     "kernelName": "csharp"
    }
   },
   "outputs": [],
   "source": [
    "unsafe struct Struct1\n",
    "{\n",
    "    public fixed int InternalBuffer[16];    \n",
    "    public Struct1() {\n",
    "        for (int i=0; i < 16; ++i)\n",
    "            InternalBuffer[i] = i ^ 0xFF;\n",
    "    }\n",
    "}\n"
   ]
  },
  {
   "cell_type": "markdown",
   "metadata": {},
   "source": [
    "W C# 12.0 jest też atrybut na 1-elementowej strukturze. Dziwaczne, ale nie wymaga ``unsafe``.\\\n",
    "Warto zauważyć, że pole w tej strukturze jest tylko placeholder na odpowiedni kawałek pamięci,\\\n",
    "ale nie używamy jego nazwy. Do struktury odwołujemy się jakby to był array ``this[i]`` oraz ``s2[i]``."
   ]
  },
  {
   "cell_type": "code",
   "execution_count": 14,
   "metadata": {
    "dotnet_interactive": {
     "language": "csharp"
    },
    "polyglot_notebook": {
     "kernelName": "csharp"
    }
   },
   "outputs": [
    {
     "name": "stdout",
     "output_type": "stream",
     "text": [
      "255\n",
      "254\n",
      "253\n",
      "252\n",
      "251\n",
      "250\n",
      "249\n",
      "248\n",
      "247\n",
      "246\n",
      "245\n",
      "244\n",
      "243\n",
      "242\n",
      "241\n",
      "240\n"
     ]
    }
   ],
   "source": [
    "\n",
    "[System.Runtime.CompilerServices.InlineArray(16)]\n",
    "struct Struct2 {\n",
    "    public int SoleAndOnlyMemberWithAbsolutellyIrrelevantName;\n",
    "    public Struct2() {\n",
    "        for (int i=0; i < 16; ++i)\n",
    "            this[i] = i ^ 0xFF;\n",
    "    }\n",
    "}\n",
    "\n",
    "var s2 = new Struct2();\n",
    "for (int i=0; i < 16; ++i)\n",
    "    Console.WriteLine(s2[i]);\n",
    "\n"
   ]
  },
  {
   "cell_type": "code",
   "execution_count": 15,
   "metadata": {
    "dotnet_interactive": {
     "language": "csharp"
    },
    "polyglot_notebook": {
     "kernelName": "csharp"
    }
   },
   "outputs": [
    {
     "name": "stdout",
     "output_type": "stream",
     "text": [
      "sizeof(Struct) = 16\n",
      "sizeof(Struct1) = 64\n",
      "sizeof(Struct1) = 64\n"
     ]
    }
   ],
   "source": [
    "\n",
    "static int SizeOf(Type t) => System.Runtime.InteropServices.Marshal.SizeOf(t);\n",
    "\n",
    "Console.WriteLine($\"sizeof(Struct) = {SizeOf(typeof(Struct))}\");   // 2 x sizeof(pointer) = 16\n",
    "Console.WriteLine($\"sizeof(Struct1) = {SizeOf(typeof(Struct1))}\"); // 16 x sizeof(int) = 64\n",
    "Console.WriteLine($\"sizeof(Struct1) = {SizeOf(typeof(Struct2))}\"); // 16 x sizeof(Struct2) = 16 x sizeof(int) = 64"
   ]
  }
 ],
 "metadata": {
  "kernelspec": {
   "display_name": ".NET (C#)",
   "language": "C#",
   "name": ".net-csharp"
  },
  "language_info": {
   "name": "polyglot-notebook"
  },
  "polyglot_notebook": {
   "kernelInfo": {
    "defaultKernelName": "csharp",
    "items": [
     {
      "aliases": [],
      "name": "csharp"
     }
    ]
   }
  }
 },
 "nbformat": 4,
 "nbformat_minor": 2
}
