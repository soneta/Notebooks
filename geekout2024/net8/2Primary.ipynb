{
 "cells": [
  {
   "cell_type": "markdown",
   "metadata": {},
   "source": [
    "W C# 10.0 pojawia się ``primary constructor`` dla rekordów.\\\n",
    "Parametry konstruktora stają się publicznymi propsami."
   ]
  },
  {
   "cell_type": "code",
   "execution_count": 17,
   "metadata": {
    "dotnet_interactive": {
     "language": "csharp"
    },
    "polyglot_notebook": {
     "kernelName": "csharp"
    },
    "vscode": {
     "languageId": "polyglot-notebook"
    }
   },
   "outputs": [
    {
     "name": "stdout",
     "output_type": "stream",
     "text": [
      "CoordClass { X = 1, Y = -1, Z = 0, T = 0.0001 }\n",
      "CoordStruct { X = 7, Y = 0, Z = 0, T = 0 }\n"
     ]
    }
   ],
   "source": [
    "record class CoordClass(int X, int Y, int Z, float T);\n",
    "record struct CoordStruct(int X, int Y, int Z, float T);\n",
    "\n",
    "var cc = new CoordClass(1, -1, 0, 1.0e-4f); // wyamgane parametry\n",
    "//cc.X = 7;                                 // read-only\n",
    "\n",
    "var cs = new CoordStruct();                 // opcjonalne parametry\n",
    "cs.X = 7;                                   // read-write\n",
    "\n",
    "Console.WriteLine(cc);\n",
    "Console.WriteLine(cs);"
   ]
  },
  {
   "cell_type": "markdown",
   "metadata": {},
   "source": [
    "W C# 12.0 ``primary ctor`` można stosować także dla klas i struktur ``non-record``.\\\n",
    "Z parametrów konstruktora można dowolnie korzystać w body metod instancji, można także zmieniać ich wartość."
   ]
  },
  {
   "cell_type": "code",
   "execution_count": 16,
   "metadata": {
    "dotnet_interactive": {
     "language": "csharp"
    },
    "polyglot_notebook": {
     "kernelName": "csharp"
    },
    "vscode": {
     "languageId": "polyglot-notebook"
    }
   },
   "outputs": [
    {
     "name": "stdout",
     "output_type": "stream",
     "text": [
      "x=1 y=-1 z=0 t=0.0001\n",
      "x=0 y=0 z=0 t=0\n"
     ]
    }
   ],
   "source": [
    "class CoordClass(int x, int y, int z, float t)\n",
    "{\n",
    "    public override string ToString() => $\"x={x} y={y} z={z} t={t}\";\n",
    "}\n",
    "\n",
    "struct CoordStruct(int x, int y, int z, float t)\n",
    "{\n",
    "    public override string ToString() => $\"x={x} y={y} z={z} t={t}\";\n",
    "}\n",
    "\n",
    "var cc = new CoordClass(1, -1, 0, 1.0e-4f);\n",
    "var cs = new CoordStruct();\n",
    "\n",
    "Console.WriteLine(cc);\n",
    "Console.WriteLine(cs);"
   ]
  },
  {
   "cell_type": "markdown",
   "metadata": {},
   "source": [
    "Parametry nie stają się jednak propsami, nie można się do nich dostać ani przez ``this`` czy przez refleksję.\\\n",
    "Choć oczywiście przechowywane są w pamięci obiektu."
   ]
  },
  {
   "cell_type": "code",
   "execution_count": 15,
   "metadata": {
    "dotnet_interactive": {
     "language": "csharp"
    },
    "polyglot_notebook": {
     "kernelName": "csharp"
    },
    "vscode": {
     "languageId": "polyglot-notebook"
    }
   },
   "outputs": [
    {
     "name": "stdout",
     "output_type": "stream",
     "text": [
      "16\r\n"
     ]
    }
   ],
   "source": [
    "static int SizeOf(Type t) => System.Runtime.InteropServices.Marshal.SizeOf(t);\n",
    "Console.WriteLine(SizeOf(typeof(CoordStruct))); // 3 x sizeof(int) + sizeof(float) = 16"
   ]
  }
 ],
 "metadata": {
  "language_info": {
   "name": "csharp"
  }
 },
 "nbformat": 4,
 "nbformat_minor": 2
}
