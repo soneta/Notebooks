{
 "cells": [
  {
   "cell_type": "markdown",
   "metadata": {},
   "source": [
    "W C# 9.0 pojawia się ``record`` - typ referencyjny, ale porównywany przez wartość.\\\n",
    "Rekord służy do opisywania surowych danych.\n",
    "Sam keyword ``record`` tego nie gwarantuje, ale rekordy dobrze pasują do obiektów _immutable_.\\\n",
    "Do kopiowania rekordów służy konstrukcja z ``with``."
   ]
  },
  {
   "cell_type": "code",
   "execution_count": 2,
   "metadata": {
    "dotnet_interactive": {
     "language": "csharp"
    },
    "polyglot_notebook": {
     "kernelName": "csharp"
    }
   },
   "outputs": [
    {
     "name": "stdout",
     "output_type": "stream",
     "text": [
      "Coord { X = 1, Y = -1, Z = 0 }\n",
      "Coord { X = 1, Y = -1, Z = 0 }\n",
      "Coord { X = 1, Y = -1, Z = 2 }\n",
      "d1 equals d2? True\n"
     ]
    }
   ],
   "source": [
    "record Coord\n",
    "{\n",
    "    public int X { get; init; }\n",
    "    public int Y { get; init; }\n",
    "    public int Z { get; init; } \n",
    "}\n",
    "\n",
    "var d1 = new Coord() { X = 1, Y = -1, Z = 0 };\n",
    "var d2 = new Coord() { X = 1, Y = -1, Z = 0 };\n",
    "var d3 = d1 with { Z = 2 };\n",
    "\n",
    "Console.WriteLine(d1);\n",
    "Console.WriteLine(d2);\n",
    "Console.WriteLine(d3);\n",
    "Console.WriteLine($\"d1 equals d2? {d1 == d2}\");\n"
   ]
  },
  {
   "cell_type": "markdown",
   "metadata": {},
   "source": [
    "W C# 12.0 ``record`` staje się dodatkową własnością klasy lub struktury - mamy rozróżnienie ``record class`` i ``record struct``."
   ]
  },
  {
   "cell_type": "code",
   "execution_count": 3,
   "metadata": {
    "dotnet_interactive": {
     "language": "csharp"
    },
    "polyglot_notebook": {
     "kernelName": "csharp"
    }
   },
   "outputs": [
    {
     "name": "stdout",
     "output_type": "stream",
     "text": [
      "CoordClass { X = 0, Y = 0, Z = 0, T = 0 }\n",
      "CoordStruct { X = 0, Y = 0, Z = 0, T = 0 }\n"
     ]
    }
   ],
   "source": [
    "record class CoordClass {\n",
    "    public int X { get; init; }\n",
    "    public int Y { get; init; }\n",
    "    public int Z { get; init; }\n",
    "    public float T { get; set; }\n",
    "}\n",
    "\n",
    "/*readonly*/ record struct CoordStruct {\n",
    "    public int X { get; init; }\n",
    "    public int Y { get; init; }\n",
    "    public int Z { get; init; }\n",
    "    public float T { get; set; }\n",
    "}\n",
    "\n",
    "var cc = new CoordClass();\n",
    "var cs = new CoordStruct();\n",
    "\n",
    "Console.WriteLine($\"{cc}\");\n",
    "Console.WriteLine($\"{cs}\");"
   ]
  }
 ],
 "metadata": {
  "kernelspec": {
   "display_name": ".NET (C#)",
   "language": "C#",
   "name": ".net-csharp"
  },
  "language_info": {
   "name": "polyglot-notebook"
  },
  "polyglot_notebook": {
   "kernelInfo": {
    "defaultKernelName": "csharp",
    "items": [
     {
      "aliases": [],
      "name": "csharp"
     }
    ]
   }
  }
 },
 "nbformat": 4,
 "nbformat_minor": 2
}
