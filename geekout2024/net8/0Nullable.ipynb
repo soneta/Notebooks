{
 "cells": [
  {
   "cell_type": "markdown",
   "metadata": {},
   "source": [
    "Nullable reference types: https://learn.microsoft.com/en-us/dotnet/csharp/tutorials/nullable-reference-types\n",
    "\n",
    "\t<Project Sdk=\"Microsoft.NET.Sdk\">\n",
    "\t\t<PropertyGroup>\n",
    "\t\t\t<OutputType>Exe</OutputType>\n",
    "\t\t\t<TargetFramework>net8.0</TargetFramework>\n",
    "\t\t\t<Nullable>enable</Nullable>\n",
    "\t\t</PropertyGroup>\n",
    "\t</Project>\n",
    "\n"
   ]
  },
  {
   "cell_type": "code",
   "execution_count": 6,
   "metadata": {
    "dotnet_interactive": {
     "language": "csharp"
    },
    "polyglot_notebook": {
     "kernelName": "csharp"
    }
   },
   "outputs": [],
   "source": [
    "#nullable enable // default dla .NET6\n",
    "\n",
    "class AboutNullable\n",
    "{\n",
    "    string Field; //= null;\n",
    "}\n"
   ]
  },
  {
   "cell_type": "markdown",
   "metadata": {},
   "source": [
    "Kiedy włączone są funkcje związane z ``nullable ref types``, watość ``null`` dla obiektów referencyjnych traktowana jest jako nieprawidłowa.\n",
    "\n",
    "_Non-nullable field 'Field' must contain a non-null value when exiting constructor. Consider declaring the field as nullable._\n",
    "\n",
    "Chyba, że przypiszemy specjalną wartość ``null!``"
   ]
  },
  {
   "cell_type": "code",
   "execution_count": 7,
   "metadata": {},
   "outputs": [],
   "source": [
    "class AboutNullable\n",
    "{\n",
    "    string Field = null!;\n",
    "}"
   ]
  },
  {
   "cell_type": "markdown",
   "metadata": {},
   "source": [
    "Albo jawnie oznaczymy typ jako ``nullable``"
   ]
  },
  {
   "cell_type": "code",
   "execution_count": 8,
   "metadata": {
    "dotnet_interactive": {
     "language": "csharp"
    },
    "polyglot_notebook": {
     "kernelName": "csharp"
    }
   },
   "outputs": [],
   "source": [
    "#nullable enable\n",
    "\n",
    "class AboutNullable\n",
    "{\n",
    "    string? Field = null;\n",
    "    int Len => Field.Length;\n",
    "}"
   ]
  },
  {
   "cell_type": "markdown",
   "metadata": {},
   "source": [
    "... Co ma dalsze konsekwencje - przy użyciach tego pola pojawia się warinig\n",
    "\n",
    "_Dereference of a possibly null reference._\n",
    "\n",
    "Miejsca, gdzie zachodzi dereferencja należy albo zabezpieczyć ``?`` albo powiedzieć _wiem co robię_ za pomocą ``!``"
   ]
  },
  {
   "cell_type": "code",
   "execution_count": 9,
   "metadata": {
    "dotnet_interactive": {
     "language": "csharp"
    },
    "polyglot_notebook": {
     "kernelName": "csharp"
    }
   },
   "outputs": [],
   "source": [
    "#nullable enable\n",
    "\n",
    "class AboutNullable\n",
    "{\n",
    "    string? Field = null;\n",
    "    int Len => Field?.Length ?? 0;\n",
    "\n",
    "    string Field2 = String.Empty;\n",
    "    int Len2 => Field2!.Length;\n",
    "}"
   ]
  },
  {
   "cell_type": "code",
   "execution_count": 10,
   "metadata": {
    "dotnet_interactive": {
     "language": "csharp"
    },
    "polyglot_notebook": {
     "kernelName": "csharp"
    }
   },
   "outputs": [],
   "source": [
    "string Field = null!;"
   ]
  }
 ],
 "metadata": {
  "kernelspec": {
   "display_name": ".NET (C#)",
   "language": "C#",
   "name": ".net-csharp"
  },
  "language_info": {
   "name": "polyglot-notebook"
  },
  "polyglot_notebook": {
   "kernelInfo": {
    "defaultKernelName": "csharp",
    "items": [
     {
      "aliases": [],
      "name": "csharp"
     }
    ]
   }
  }
 },
 "nbformat": 4,
 "nbformat_minor": 2
}
