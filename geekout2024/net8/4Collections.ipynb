{
 "cells": [
  {
   "cell_type": "markdown",
   "metadata": {},
   "source": [
    "Collection Expressions\n",
    "\n",
    "https://learn.microsoft.com/en-us/dotnet/csharp/language-reference/proposals/csharp-12.0/collection-expressions"
   ]
  },
  {
   "cell_type": "code",
   "execution_count": 1,
   "metadata": {
    "dotnet_interactive": {
     "language": "csharp"
    },
    "polyglot_notebook": {
     "kernelName": "csharp"
    }
   },
   "outputs": [],
   "source": [
    "static class Takes\n",
    "{\n",
    "    public static void Array(int[] ints) { }\n",
    "    public static void List(List<int> ints) { }\n",
    "    public static void Span(ReadOnlySpan<int> ints) { }\n",
    "    public static void Enumerable(IEnumerable<int> ints) { }\n",
    "}"
   ]
  },
  {
   "cell_type": "markdown",
   "metadata": {},
   "source": [
    "Mamy do dyspozycji wyrażenie tworzenia kolekcji ``[]``. Zależnie od potrzebnego typu,\\\n",
    "zbudowany zostanie Array, List, Span, IEnumerable, ...\\"
   ]
  },
  {
   "cell_type": "code",
   "execution_count": 2,
   "metadata": {
    "dotnet_interactive": {
     "language": "csharp"
    },
    "polyglot_notebook": {
     "kernelName": "csharp"
    }
   },
   "outputs": [],
   "source": [
    "\n",
    "Takes.Array([]);                // => Array.Empty<int>()\n",
    "Takes.List([2, 0, 2, 4]);       // => new List<int>(4) { 2, 0, 2, 4 }\n",
    "Takes.Span([2, 0, 2, 4]);\n",
    "Takes.Enumerable([2, 0, 2, 4]); // => <internal type>\n"
   ]
  },
  {
   "cell_type": "markdown",
   "metadata": {},
   "source": [
    "Do dyspozycji jest także wygodny operator ``..`` (spread), który potrafi komponować kolekcję z innych kolekcji dowolnych typów."
   ]
  },
  {
   "cell_type": "code",
   "execution_count": 3,
   "metadata": {
    "dotnet_interactive": {
     "language": "csharp"
    },
    "polyglot_notebook": {
     "kernelName": "csharp"
    }
   },
   "outputs": [],
   "source": [
    "var c1 = new[] { 1, 2, 3 };\n",
    "var c2 = new List<int>() { 4, 5, 6 };\n",
    "var c3 = Enumerable.Empty<int>();\n",
    "\n",
    "Takes.Enumerable([..c1, ..c2, ..c3]);"
   ]
  },
  {
   "cell_type": "markdown",
   "metadata": {},
   "source": [
    "Wyrażenie ``[]`` nie zadziała w przypadku przeciążeń, bo kompilator musi jednoznacznie określić typ dla którego ma zostać zbudowana kolekcja."
   ]
  },
  {
   "cell_type": "code",
   "execution_count": 1,
   "metadata": {
    "dotnet_interactive": {
     "language": "csharp"
    },
    "polyglot_notebook": {
     "kernelName": "csharp"
    }
   },
   "outputs": [
    {
     "ename": "Error",
     "evalue": "(7,7): error CS0121: The call is ambiguous between the following methods or properties: 'Takes.Many(int[])' and 'Takes.Many(List<int>)'",
     "output_type": "error",
     "traceback": [
      "(7,7): error CS0121: The call is ambiguous between the following methods or properties: 'Takes.Many(int[])' and 'Takes.Many(List<int>)'"
     ]
    }
   ],
   "source": [
    "static class Takes\n",
    "{\n",
    "    public static void Many(int[] ints) { }\n",
    "    public static void Many(List<int> ints) { }\n",
    "}\n",
    "\n",
    "Takes.Many([1,2,3]);"
   ]
  },
  {
   "cell_type": "markdown",
   "metadata": {},
   "source": [
    "Przy konsekwentnym stosowaniu ``[]`` w kodzie używającym ``Takes``,\\\n",
    "w przypadku zmiany sygnatury np. parametru ``int[]`` na ``IEnumerable``,\\\n",
    "kod używający tego API mógłby nie wymagać zmiany."
   ]
  },
  {
   "cell_type": "code",
   "execution_count": 5,
   "metadata": {
    "dotnet_interactive": {
     "language": "csharp"
    },
    "polyglot_notebook": {
     "kernelName": "csharp"
    }
   },
   "outputs": [],
   "source": [
    "static class Takes\n",
    "{\n",
    "    //public static void Many(int[] ints) { }\n",
    "    public static void Many(IEnumerable<int> ints) { }\n",
    "}\n",
    "\n",
    "Takes.Many([1,2,3]);"
   ]
  }
 ],
 "metadata": {
  "kernelspec": {
   "display_name": ".NET (C#)",
   "language": "C#",
   "name": ".net-csharp"
  },
  "language_info": {
   "name": "polyglot-notebook"
  },
  "polyglot_notebook": {
   "kernelInfo": {
    "defaultKernelName": "csharp",
    "items": [
     {
      "aliases": [],
      "name": "csharp"
     }
    ]
   }
  }
 },
 "nbformat": 4,
 "nbformat_minor": 2
}
