{
 "cells": [
  {
   "cell_type": "markdown",
   "metadata": {},
   "source": [
    "Załadowanie bibliotek i utworzenie obiektu Login"
   ]
  },
  {
   "cell_type": "code",
   "execution_count": null,
   "metadata": {
    "dotnet_interactive": {
     "language": "csharp"
    },
    "polyglot_notebook": {
     "kernelName": "csharp"
    },
    "vscode": {
     "languageId": "polyglot-notebook"
    }
   },
   "outputs": [],
   "source": [
    "#!import ./../../load.ipynb"
   ]
  },
  {
   "cell_type": "markdown",
   "metadata": {},
   "source": [
    "Pobranie instancji ILogger dla naszej klasy z kontenera dependency injection.\n",
    "\n",
    "\n"
   ]
  },
  {
   "cell_type": "code",
   "execution_count": null,
   "metadata": {
    "dotnet_interactive": {
     "language": "csharp"
    },
    "polyglot_notebook": {
     "kernelName": "csharp"
    },
    "vscode": {
     "languageId": "polyglot-notebook"
    }
   },
   "outputs": [],
   "source": [
    "using Microsoft.Extensions.DependencyInjection;\n",
    "using Microsoft.Extensions.Logging;\n",
    "using Soneta.Business.App;\n",
    "\n",
    "class MyClass { }\n",
    "\n",
    "var logger = BusApplication.Instance.GetService<ILogger<MyClass>>();\n",
    "\n"
   ]
  },
  {
   "cell_type": "markdown",
   "metadata": {},
   "source": [
    "Użycie utworzonego wcześniej loggera i zalogowanie informacji o nazwach towarów bez EAN, oraz ilości towarów z EAN.\n"
   ]
  },
  {
   "cell_type": "code",
   "execution_count": null,
   "metadata": {
    "dotnet_interactive": {
     "language": "csharp"
    },
    "polyglot_notebook": {
     "kernelName": "csharp"
    },
    "vscode": {
     "languageId": "polyglot-notebook"
    }
   },
   "outputs": [],
   "source": [
    "using Soneta.Towary;\n",
    "\n",
    "using(var session = Login.CreateSession(\"Pobieranie listy towarów\"))\n",
    "{\n",
    "  int validCount = 0;\n",
    "  foreach(var towar in session.GetTowary().Towary.WgNazwy){\n",
    "    if (string.IsNullOrWhiteSpace(towar.EAN))\n",
    "      logger.LogWarning(\"Product {ProductName} without EAN\", towar.Nazwa);\n",
    "    else\n",
    "      validCount++;\n",
    "    WriteLine(towar.Nazwa);\n",
    "  }\n",
    "  logger.LogInformation(\"Loaded {ValidProductCount} valid products\", validCount);\n",
    "}"
   ]
  },
  {
   "cell_type": "markdown",
   "metadata": {},
   "source": [
    "Wyczyszczenie obiektu Login"
   ]
  },
  {
   "cell_type": "code",
   "execution_count": null,
   "metadata": {
    "dotnet_interactive": {
     "language": "csharp"
    },
    "polyglot_notebook": {
     "kernelName": "csharp"
    },
    "vscode": {
     "languageId": "polyglot-notebook"
    }
   },
   "outputs": [],
   "source": [
    "Login?.Dispose();"
   ]
  }
 ],
 "metadata": {
  "kernelspec": {
   "display_name": ".NET (C#)",
   "language": "C#",
   "name": ".net-csharp"
  },
  "language_info": {
   "name": "csharp"
  },
  "polyglot_notebook": {
   "kernelInfo": {
    "defaultKernelName": "csharp",
    "items": [
     {
      "aliases": [],
      "name": "csharp"
     }
    ]
   }
  }
 },
 "nbformat": 4,
 "nbformat_minor": 2
}
