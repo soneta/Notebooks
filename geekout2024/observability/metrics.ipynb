{
 "cells": [
  {
   "cell_type": "markdown",
   "metadata": {},
   "source": [
    "Załadowanie bibliotek i utworzenie obiektu Login"
   ]
  },
  {
   "cell_type": "code",
   "execution_count": null,
   "metadata": {
    "dotnet_interactive": {
     "language": "csharp"
    },
    "polyglot_notebook": {
     "kernelName": "csharp"
    },
    "vscode": {
     "languageId": "polyglot-notebook"
    }
   },
   "outputs": [],
   "source": [
    "#!import ./../load.ipynb"
   ]
  },
  {
   "cell_type": "markdown",
   "metadata": {},
   "source": [
    "Utworzenie statycznego obiektu Meter dla rozszerzenia. Należy pamiętać o włączeniu go w appsettings.json (Telemetry:MetricsSources).\n",
    "\n",
    "\n"
   ]
  },
  {
   "cell_type": "code",
   "execution_count": null,
   "metadata": {
    "dotnet_interactive": {
     "language": "csharp"
    },
    "polyglot_notebook": {
     "kernelName": "csharp"
    },
    "vscode": {
     "languageId": "polyglot-notebook"
    }
   },
   "outputs": [],
   "source": [
    "using System.Diagnostics.Metrics;\n",
    "\n",
    "static Meter MyMeter = new Meter(\"BestSonetaAddon\");"
   ]
  },
  {
   "cell_type": "markdown",
   "metadata": {},
   "source": [
    "Utworzenie statycznego obiektu Counter zliczającego przetworzone towary."
   ]
  },
  {
   "cell_type": "code",
   "execution_count": null,
   "metadata": {
    "dotnet_interactive": {
     "language": "csharp"
    },
    "polyglot_notebook": {
     "kernelName": "csharp"
    },
    "vscode": {
     "languageId": "polyglot-notebook"
    }
   },
   "outputs": [],
   "source": [
    "static Counter<int> ProductsCounter = MyMeter.CreateCounter<int>(\"ProcessedProducts\", unit: \"pcs\");"
   ]
  },
  {
   "cell_type": "markdown",
   "metadata": {},
   "source": [
    "Utworzenie statycznego obiektu Gauge, czyli metryki bazującej na delegacie obliczającej wartość za każdym razem, kiedy jest odpytywana."
   ]
  },
  {
   "cell_type": "code",
   "execution_count": null,
   "metadata": {
    "vscode": {
     "languageId": "polyglot-notebook"
    }
   },
   "outputs": [],
   "source": [
    "static int lastWarningCount = 0;\n",
    "static ObservableGauge<int> WarningGauge = MyMeter.CreateObservableGauge<int>(\"WarningsFromLastRun\", () => lastWarningCount);"
   ]
  },
  {
   "cell_type": "markdown",
   "metadata": {},
   "source": [
    "Utworzenie statycznego obiektu Histogram zbierającego czas przetwarzania towarów."
   ]
  },
  {
   "cell_type": "code",
   "execution_count": null,
   "metadata": {
    "vscode": {
     "languageId": "polyglot-notebook"
    }
   },
   "outputs": [],
   "source": [
    "static Histogram<long> ProductsProcessingTimeHistogram = MyMeter.CreateHistogram<long>(\"ProductsProcessingTime\", unit: \"ms\");"
   ]
  },
  {
   "cell_type": "markdown",
   "metadata": {},
   "source": [
    "Użycie metryki ProcessedProducts oraz histogramu ProductsProcessingTime w algorytmie przetwarzającym towary\n"
   ]
  },
  {
   "cell_type": "code",
   "execution_count": null,
   "metadata": {
    "dotnet_interactive": {
     "language": "csharp"
    },
    "polyglot_notebook": {
     "kernelName": "csharp"
    },
    "vscode": {
     "languageId": "polyglot-notebook"
    }
   },
   "outputs": [],
   "source": [
    "using System.Diagnostics;\n",
    "using Soneta.Towary;\n",
    "\n",
    "\n",
    "lastWarningCount = 0;\n",
    "using(var session = Login.CreateSession(\"Pobieranie listy towarów\"))\n",
    "{\n",
    "  var stopWatch = new Stopwatch();\n",
    "  stopWatch.Start();\n",
    "  int validCount = 0;\n",
    "  foreach(var towar in session.GetTowary().Towary.WgNazwy)\n",
    "  {    \n",
    "    ProductsCounter.Add(1);\n",
    "    if (string.IsNullOrWhiteSpace(towar.EAN))\n",
    "      lastWarningCount++;\n",
    "    else\n",
    "      validCount++;\n",
    "    WriteLine(towar.Nazwa);\n",
    "  }  \n",
    "  stopWatch.Stop();\n",
    "  ProductsProcessingTimeHistogram.Record(stopWatch.ElapsedMilliseconds);\n",
    "}"
   ]
  },
  {
   "cell_type": "markdown",
   "metadata": {},
   "source": [
    "Wyczyszczenie obiektu Login"
   ]
  },
  {
   "cell_type": "code",
   "execution_count": null,
   "metadata": {
    "dotnet_interactive": {
     "language": "csharp"
    },
    "polyglot_notebook": {
     "kernelName": "csharp"
    },
    "vscode": {
     "languageId": "polyglot-notebook"
    }
   },
   "outputs": [],
   "source": [
    "Login?.Dispose();"
   ]
  }
 ],
 "metadata": {
  "kernelspec": {
   "display_name": ".NET (C#)",
   "language": "C#",
   "name": ".net-csharp"
  },
  "language_info": {
   "name": "csharp"
  },
  "polyglot_notebook": {
   "kernelInfo": {
    "defaultKernelName": "csharp",
    "items": [
     {
      "aliases": [],
      "name": "csharp"
     }
    ]
   }
  }
 },
 "nbformat": 4,
 "nbformat_minor": 2
}
