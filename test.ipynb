{
 "cells": [
  {
   "cell_type": "code",
   "execution_count": 2,
   "metadata": {
    "dotnet_interactive": {
     "language": "csharp"
    },
    "polyglot_notebook": {
     "kernelName": "csharp"
    },
    "vscode": {
     "languageId": "polyglot-notebook"
    }
   },
   "outputs": [
    {
     "data": {
      "text/html": [
       "<div><div></div><div></div><div><strong>Installed Packages</strong><ul><li><span>Soneta.Products.Modules, 2401.4.8-net</span></li><li><span>Soneta.Start, 2401.4.8-net</span></li></ul></div></div>"
      ]
     },
     "metadata": {},
     "output_type": "display_data"
    }
   ],
   "source": [
    "#!import ./load.ipynb"
   ]
  },
  {
   "cell_type": "code",
   "execution_count": 3,
   "metadata": {
    "dotnet_interactive": {
     "language": "csharp"
    },
    "polyglot_notebook": {
     "kernelName": "csharp"
    },
    "vscode": {
     "languageId": "polyglot-notebook"
    }
   },
   "outputs": [
    {
     "name": "stdout",
     "output_type": "stream",
     "text": [
      "Bikini - Strój kąpielowy damski\n",
      "Buty narciarskie Classic\n",
      "Buty narciarskie Classic 42\n",
      "Buty narciarskie Classic 43\n",
      "Buty narciarskie Classic 44\n",
      "Buty narciarskie Classic 45\n",
      "Kije narciarskie 160 cm\n",
      "Kije narciarskie 180 cm\n",
      "Kombinezon narciarski - Salomon Classic\n",
      "Kombinezon narciarski - Salomon Medium\n",
      "Kombinezon narciarski - Tyrolia Classic\n",
      "Kombinezon narciarski - Tyrolia Extreme\n",
      "Kombinezon narciarski - Tyrolia Normal\n",
      "Łyżwy figurowe białe rozm. 36\n",
      "Łyżwy figurowe czarne rozm. 42\n",
      "Łyżwy hokejowe czarne rozm. 40\n",
      "Łyżwy hokejowe czarne rozm. 42\n",
      "Montaż wiązań narciarskich\n",
      "Namiot HOME 1 osobowy\n",
      "Namiot HOME 2 osobowy\n",
      "Namiot HOME 3 osobowy\n",
      "Namiot HOME 4 osobowy\n",
      "Namiot HOME 5 osobowy\n",
      "Narta zjazdowa z wiązaniami \"MonoSki\" 180 cm\n",
      "Narta zjazdowa z wiązaniami Snowboard 160 cm\n",
      "Narty biegowe 220 cm\n",
      "Narty biegowe z wiązaniami 230 cm\n",
      "Narty wodne 140 cm\n",
      "Narty wodne 160 cm\n",
      "Narty zjazdowe 150 cm\n",
      "Narty zjazdowe z wiązaniami 150 cm\n",
      "Narty zjazdowe z wiązaniami 160 cm\n",
      "Narty zjazdowe z wiązaniami 180 cm\n",
      "Piłeczka do tenisa stołowego - hard\n",
      "Piłeczka do tenisa stołowego - soft\n",
      "przesyłka kurierska\n",
      "Rakieta do tenisa stołowego - hard\n",
      "Rakieta do tenisa stołowego - soft\n",
      "Rower górski Scout\n",
      "Rower górski Scout 18\" czerwony\n",
      "Rower górski Scout 18\" zielony\n",
      "Rower górski Scout 20\" czerwony\n",
      "Rower górski Scout 20\" zielony\n",
      "Rower górski Scout 22\" czerwony\n",
      "Rower górski Scout 22\" zielony\n",
      "Rower turystyczny damski Scout 24\"\n",
      "Rower turystyczny męski Scout 24\"\n",
      "Smar do nart\n",
      "Śpiwór\n",
      "Transport\n",
      "Wiązania do nart zjazdowych MAN\n",
      "Wiązania do nart zjazdowych WOMAN\n",
      "Windsurfing 180 cm\n",
      "Wrotki zawodowe - 1 ślad Classic - białe\n",
      "Wrotki zawodowe - 1 ślad Extreme - czarne\n",
      "Wrotki zawodowe - 2 ślady Classic - czarne\n",
      "Wrotki zawodowe - 2 ślady Extreme - czarne\n",
      "Wrotki zawodowe - 2 ślady Medium - czarne\n",
      "Zestaw: narty, wiązania, kije, buty\n"
     ]
    }
   ],
   "source": [
    "using Soneta.Towary;\n",
    "\n",
    "using(var session = Login.CreateSession(\"Pobieranie listy towarów\")){\n",
    "  foreach(var towar in session.GetTowary().Towary.WgNazwy){\n",
    "    WriteLine(towar.Nazwa);\n",
    "  }\n",
    "}"
   ]
  },
  {
   "cell_type": "code",
   "execution_count": 4,
   "metadata": {
    "dotnet_interactive": {
     "language": "csharp"
    },
    "polyglot_notebook": {
     "kernelName": "csharp"
    },
    "vscode": {
     "languageId": "polyglot-notebook"
    }
   },
   "outputs": [],
   "source": [
    "Login?.Dispose();"
   ]
  }
 ],
 "metadata": {
  "language_info": {
   "name": "csharp"
  }
 },
 "nbformat": 4,
 "nbformat_minor": 2
}
